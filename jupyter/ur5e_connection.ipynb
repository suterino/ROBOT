{
 "cells": [
  {
   "cell_type": "markdown",
   "metadata": {},
   "source": [
    "# UR5e Robot Connection (Using RTDE)\n",
    "\n",
    "This notebook demonstrates how to connect to a UR5e robot arm using the RTDE (Real-Time Data Exchange) protocol.\n",
    "\n",
    "## Why RTDE instead of urx?\n",
    "\n",
    "**urx library:**\n",
    "- Sends complete URScript programs for every command\n",
    "- Slower communication (full scripts sent each time)\n",
    "- Simpler API, good for basic applications\n",
    "- Lower update frequency (~10-20 Hz)\n",
    "\n",
    "**RTDE library (ur_rtde):**\n",
    "- Official UR protocol for real-time communication\n",
    "- **500 Hz update rate** for e-series robots (vs ~10-20 Hz for urx)\n",
    "- Sends only data packets, not full scripts\n",
    "- Better for real-time control, force control, and high-performance applications\n",
    "- Recommended for UR5e (e-series) robots\n",
    "\n",
    "**Bottom line:** RTDE is much faster and more efficient, especially for the UR5e."
   ]
  },
  {
   "cell_type": "markdown",
   "metadata": {},
   "source": [
    "## Install Required Libraries\n",
    "\n",
    "First, install the ur_rtde library (official RTDE interface for Universal Robots):\n",
    "\n",
    "```bash\n",
    "pip install ur-rtde\n",
    "```"
   ]
  },
  {
   "cell_type": "code",
   "execution_count": 1,
   "metadata": {},
   "outputs": [],
   "source": [
    "import rtde_control\n",
    "import rtde_receive\n",
    "import time\n",
    "import math"
   ]
  },
  {
   "cell_type": "markdown",
   "metadata": {},
   "source": [
    "## Connect to UR5e Robot\n",
    "\n",
    "Replace `ROBOT_IP` with your UR5e's actual IP address (e.g., '192.168.1.100')\n",
    "\n",
    "**Note:** RTDE uses two separate interfaces:\n",
    "- `RTDEReceiveInterface`: For reading data from the robot (500 Hz)\n",
    "- `RTDEControlInterface`: For sending commands to the robot"
   ]
  },
  {
   "cell_type": "code",
   "execution_count": 2,
   "metadata": {},
   "outputs": [
    {
     "name": "stdout",
     "output_type": "stream",
     "text": [
      "Successfully connected to UR5e at 10.1.10.69\n",
      "\n",
      "Current joint positions (radians): [1.762821078300476, -0.9728950423053284, 0.5842269102679651, -1.1241753560355683, 4.662407398223877, -2.7382963339435022]\n",
      "Current joint positions (degrees): [101.0022078233181, -55.74277983329699, 33.47373623632266, -64.41050333345474, 267.13626628879905, -156.89282299110855]\n",
      "\n",
      "Current TCP position [x,y,z,rx,ry,rz]: [0.2575443113141766, -0.6592201479048665, 0.5564526067905162, -3.084598770920327, 0.3297528672627111, 0.10924679132818484]\n",
      "\n",
      "Robot mode: 7\n",
      "Safety status: 1\n",
      "Current TCP speed: [0.0, 0.0, 0.0, 0.0, 0.0, 0.0]\n"
     ]
    }
   ],
   "source": [
    "# Set your robot's IP address\n",
    "ROBOT_IP = \"10.1.10.69\"  # Change this to your robot's IP\n",
    "\n",
    "try:\n",
    "    # Connect to the robot\n",
    "    # rtde_receive: reads robot state at 500 Hz (e-series)\n",
    "    rtde_r = rtde_receive.RTDEReceiveInterface(ROBOT_IP)\n",
    "    \n",
    "    # rtde_control: sends control commands to robot\n",
    "    rtde_c = rtde_control.RTDEControlInterface(ROBOT_IP)\n",
    "    \n",
    "    print(f\"Successfully connected to UR5e at {ROBOT_IP}\")\n",
    "    \n",
    "    # Get current joint positions (in radians)\n",
    "    joints = rtde_r.getActualQ()\n",
    "    print(f\"\\nCurrent joint positions (radians): {joints}\")\n",
    "    \n",
    "    # Convert to degrees for easier reading\n",
    "    joints_deg = [math.degrees(j) for j in joints]\n",
    "    print(f\"Current joint positions (degrees): {joints_deg}\")\n",
    "    \n",
    "    # Get current TCP (Tool Center Point) position [x, y, z, rx, ry, rz]\n",
    "    tcp_pos = rtde_r.getActualTCPPose()\n",
    "    print(f\"\\nCurrent TCP position [x,y,z,rx,ry,rz]: {tcp_pos}\")\n",
    "    \n",
    "    # Get additional robot state information\n",
    "    print(f\"\\nRobot mode: {rtde_r.getRobotMode()}\")\n",
    "    print(f\"Safety status: {rtde_r.getSafetyStatusBits()}\")\n",
    "    \n",
    "    # Get current TCP speed\n",
    "    tcp_speed = rtde_r.getActualTCPSpeed()\n",
    "    print(f\"Current TCP speed: {tcp_speed}\")\n",
    "    \n",
    "except Exception as e:\n",
    "    print(f\"Error connecting to robot: {e}\")"
   ]
  },
  {
   "cell_type": "markdown",
   "metadata": {},
   "source": [
    "## Example: Read Robot Data in Real-Time\n",
    "\n",
    "One advantage of RTDE is the ability to read data at 500 Hz"
   ]
  },
  {
   "cell_type": "code",
   "execution_count": 3,
   "metadata": {},
   "outputs": [
    {
     "name": "stdout",
     "output_type": "stream",
     "text": [
      "Reading robot data for 5 seconds...\n",
      "\n",
      "Sample 100: Joint 0 = 1.7628 rad, TCP Force Z = -1.28 N\n",
      "Sample 200: Joint 0 = 1.7628 rad, TCP Force Z = -1.28 N\n",
      "Sample 300: Joint 0 = 1.7628 rad, TCP Force Z = -1.28 N\n",
      "Sample 400: Joint 0 = 1.7628 rad, TCP Force Z = -1.28 N\n",
      "Sample 500: Joint 0 = 1.7628 rad, TCP Force Z = -1.28 N\n",
      "Sample 600: Joint 0 = 1.7628 rad, TCP Force Z = -1.28 N\n",
      "Sample 700: Joint 0 = 1.7628 rad, TCP Force Z = -1.28 N\n",
      "Sample 800: Joint 0 = 1.7628 rad, TCP Force Z = -1.28 N\n",
      "Sample 900: Joint 0 = 1.7628 rad, TCP Force Z = -1.28 N\n",
      "Sample 1000: Joint 0 = 1.7628 rad, TCP Force Z = -1.28 N\n",
      "Sample 1100: Joint 0 = 1.7628 rad, TCP Force Z = -1.28 N\n",
      "Sample 1200: Joint 0 = 1.7628 rad, TCP Force Z = -1.28 N\n",
      "Sample 1300: Joint 0 = 1.7628 rad, TCP Force Z = -1.28 N\n",
      "Sample 1400: Joint 0 = 1.7628 rad, TCP Force Z = -1.28 N\n",
      "Sample 1500: Joint 0 = 1.7628 rad, TCP Force Z = -1.28 N\n",
      "Sample 1600: Joint 0 = 1.7628 rad, TCP Force Z = -1.28 N\n",
      "Sample 1700: Joint 0 = 1.7628 rad, TCP Force Z = -1.28 N\n",
      "Sample 1800: Joint 0 = 1.7628 rad, TCP Force Z = -1.28 N\n",
      "Sample 1900: Joint 0 = 1.7628 rad, TCP Force Z = -1.28 N\n",
      "Sample 2000: Joint 0 = 1.7628 rad, TCP Force Z = -1.28 N\n",
      "Sample 2100: Joint 0 = 1.7628 rad, TCP Force Z = -1.28 N\n",
      "\n",
      "Total samples collected: 2171\n",
      "Average sampling rate: 434.2 Hz\n"
     ]
    }
   ],
   "source": [
    "# Read robot data for 5 seconds\n",
    "print(\"Reading robot data for 5 seconds...\\n\")\n",
    "\n",
    "start_time = time.time()\n",
    "sample_count = 0\n",
    "\n",
    "while time.time() - start_time < 5.0:\n",
    "    # Get actual joint positions\n",
    "    joints = rtde_r.getActualQ()\n",
    "    \n",
    "    # Get TCP force (useful for force control)\n",
    "    tcp_force = rtde_r.getActualTCPForce()\n",
    "    \n",
    "    sample_count += 1\n",
    "    \n",
    "    # Print every 100 samples to avoid flooding output\n",
    "    if sample_count % 100 == 0:\n",
    "        print(f\"Sample {sample_count}: Joint 0 = {joints[0]:.4f} rad, TCP Force Z = {tcp_force[2]:.2f} N\")\n",
    "    \n",
    "    time.sleep(0.002)  # 500 Hz = 2ms interval\n",
    "\n",
    "print(f\"\\nTotal samples collected: {sample_count}\")\n",
    "print(f\"Average sampling rate: {sample_count / 5.0:.1f} Hz\")"
   ]
  },
  {
   "cell_type": "markdown",
   "metadata": {},
   "source": [
    "## Example: Move Robot (Safely)\n",
    "\n",
    "Before running movement commands, ensure the robot workspace is clear!\n",
    "\n",
    "**RTDE Movement Commands:**\n",
    "- `moveJ()`: Joint space movement\n",
    "- `moveL()`: Linear movement in Cartesian space\n",
    "- `moveJ_IK()`: Joint movement using inverse kinematics from TCP pose\n",
    "- `servoJ()`: Real-time joint servo (for smooth trajectories)\n",
    "- `servoL()`: Real-time Cartesian servo"
   ]
  },
  {
   "cell_type": "code",
   "execution_count": 4,
   "metadata": {},
   "outputs": [
    {
     "name": "stdout",
     "output_type": "stream",
     "text": [
      "Starting position: [1.7628288269042969, -0.9728859227946778, 0.5842106978045862, -1.1241125923446198, 4.662369728088379, -2.7382755915271204]\n"
     ]
    }
   ],
   "source": [
    "# Example: Small joint movement\n",
    "# WARNING: Ensure workspace is clear before running!\n",
    "\n",
    "# Get current position\n",
    "current_joints = rtde_r.getActualQ()\n",
    "print(f\"Starting position: {current_joints}\")\n",
    "\n",
    "# Create a small movement (move joint 0 by 0.1 radians)\n",
    "# new_joints = list(current_joints)\n",
    "# new_joints[0] += 0.1\n",
    "\n",
    "# Move to new position with velocity and acceleration limits\n",
    "# speed: joint speed in rad/s\n",
    "# acceleration: joint acceleration in rad/s^2\n",
    "# rtde_c.moveJ(new_joints, speed=0.5, acceleration=0.5)\n",
    "\n",
    "# Wait for movement to complete\n",
    "# while not rtde_c.isSteady():\n",
    "#     time.sleep(0.01)\n",
    "\n",
    "# print(\"Movement complete\")\n",
    "# print(f\"Final position: {rtde_r.getActualQ()}\")"
   ]
  },
  {
   "cell_type": "markdown",
   "metadata": {},
   "source": [
    "## Example: Linear TCP Movement\n",
    "\n",
    "Move the TCP in Cartesian space (straight line)"
   ]
  },
  {
   "cell_type": "code",
   "execution_count": 7,
   "metadata": {},
   "outputs": [
    {
     "name": "stdout",
     "output_type": "stream",
     "text": [
      "Starting TCP pose: [0.25754137849677977, -0.6592116752848609, 0.5564599221780787, -3.0845678906979948, 0.32974674031444595, 0.10917933932420505]\n",
      "Linear movement complete\n",
      "Final TCP pose: [0.25754137849677977, -0.6592116752848609, 0.5564599221780787, -3.0845678906979948, 0.32974674031444595, 0.10917933932420505]\n"
     ]
    }
   ],
   "source": [
    "# Example: Move TCP up by 50mm (0.05m) in Z-axis\n",
    "# WARNING: Ensure workspace is clear before running!\n",
    "\n",
    "# Get current TCP pose\n",
    "current_pose = rtde_r.getActualTCPPose()\n",
    "print(f\"Starting TCP pose: {current_pose}\")\n",
    "\n",
    "# Create new pose (move up 50mm in Z)\n",
    "new_pose = list(current_pose)\n",
    "new_pose[2] += 0.05  # Z-axis\n",
    "\n",
    "# Move to new pose with linear movement\n",
    "# speed: TCP speed in m/s\n",
    "# acceleration: TCP acceleration in m/s^2\n",
    "rtde_c.moveL(new_pose, speed=0.1, acceleration=0.1)\n",
    "\n",
    "# Wait for movement to complete\n",
    "while not rtde_c.isSteady():\n",
    "     time.sleep(0.01)\n",
    "\n",
    "print(\"Linear movement complete\")\n",
    "print(f\"Final TCP pose: {rtde_r.getActualTCPPose()}\")"
   ]
  },
  {
   "cell_type": "markdown",
   "metadata": {},
   "source": [
    "## Advanced: Servo Mode (Real-Time Control)\n",
    "\n",
    "For smooth, real-time control (useful for sensor-guided motion)"
   ]
  },
  {
   "cell_type": "code",
   "execution_count": null,
   "metadata": {},
   "outputs": [],
   "source": [
    "# Example: Smooth sinusoidal movement using servoJ\n",
    "# WARNING: Ensure workspace is clear before running!\n",
    "\n",
    "# # Get starting position\n",
    "# start_joints = rtde_r.getActualQ()\n",
    "# \n",
    "# # Servo parameters\n",
    "# duration = 5.0  # seconds\n",
    "# dt = 0.002  # 500 Hz control loop\n",
    "# lookahead_time = 0.1\n",
    "# gain = 300\n",
    "# \n",
    "# # Start servo mode\n",
    "# for t in range(int(duration / dt)):\n",
    "#     # Create sinusoidal movement on joint 5\n",
    "#     target = list(start_joints)\n",
    "#     target[5] = start_joints[5] + 0.1 * math.sin(2 * math.pi * t * dt)\n",
    "#     \n",
    "#     # Send servo command (must be called every ~2ms)\n",
    "#     rtde_c.servoJ(target, velocity=0, acceleration=0, \n",
    "#                   dt=dt, lookahead_time=lookahead_time, gain=gain)\n",
    "#     \n",
    "#     time.sleep(dt)\n",
    "# \n",
    "# # Stop servo mode\n",
    "# rtde_c.servoStop()\n",
    "# print(\"Servo movement complete\")"
   ]
  },
  {
   "cell_type": "markdown",
   "metadata": {},
   "source": [
    "## Close Connection\n",
    "\n",
    "Always stop the control interface and disconnect when done"
   ]
  },
  {
   "cell_type": "code",
   "execution_count": null,
   "metadata": {},
   "outputs": [],
   "source": [
    "# Stop any ongoing control\n",
    "rtde_c.stopScript()\n",
    "\n",
    "# Disconnect\n",
    "rtde_c.disconnect()\n",
    "rtde_r.disconnect()\n",
    "\n",
    "print(\"Connection closed\")"
   ]
  },
  {
   "cell_type": "markdown",
   "metadata": {},
   "source": [
    "## Summary: Key RTDE Advantages for UR5e\n",
    "\n",
    "1. **Speed:** 500 Hz update rate (25x faster than urx)\n",
    "2. **Efficiency:** Sends only data packets, not full URScript programs\n",
    "3. **Real-time:** Maintains robot controller's real-time properties\n",
    "4. **Rich API:** Access to forces, speeds, safety status, and more\n",
    "5. **Servo mode:** Smooth real-time control for advanced applications\n",
    "6. **Official:** Supported by Universal Robots\n",
    "\n",
    "For production applications or anything requiring precise, fast control on your UR5e, RTDE is the clear choice."
   ]
  }
 ],
 "metadata": {
  "kernelspec": {
   "display_name": "Python (ai)",
   "language": "python",
   "name": "ai"
  },
  "language_info": {
   "codemirror_mode": {
    "name": "ipython",
    "version": 3
   },
   "file_extension": ".py",
   "mimetype": "text/x-python",
   "name": "python",
   "nbconvert_exporter": "python",
   "pygments_lexer": "ipython3",
   "version": "3.12.4"
  }
 },
 "nbformat": 4,
 "nbformat_minor": 4
}
